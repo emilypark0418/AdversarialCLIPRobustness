{
 "cells": [
  {
   "cell_type": "markdown",
   "id": "969ed8fa",
   "metadata": {},
   "source": [
    "## Example from OpenAI"
   ]
  },
  {
   "cell_type": "code",
   "execution_count": 1,
   "id": "809f8d9f",
   "metadata": {},
   "outputs": [
    {
     "name": "stderr",
     "output_type": "stream",
     "text": [
      "/home/ho2298/anaconda3/envs/openaiclip/lib/python3.8/site-packages/tqdm/auto.py:22: TqdmWarning: IProgress not found. Please update jupyter and ipywidgets. See https://ipywidgets.readthedocs.io/en/stable/user_install.html\n",
      "  from .autonotebook import tqdm as notebook_tqdm\n"
     ]
    },
    {
     "name": "stdout",
     "output_type": "stream",
     "text": [
      "Files already downloaded and verified\n",
      "\n",
      "Top predictions:\n",
      "\n",
      "snake: 65.19%\n",
      "turtle: 12.44%\n",
      "sweet_pepper: 3.85%\n",
      "lizard: 1.88%\n",
      "crocodile: 1.74%\n"
     ]
    }
   ],
   "source": [
    "## Example from OpenAI\n",
    "import os\n",
    "import clip\n",
    "import torch\n",
    "from torchvision.datasets import CIFAR100\n",
    "\n",
    "# Load the model\n",
    "device = \"cuda\" if torch.cuda.is_available() else \"cpu\"\n",
    "model, preprocess = clip.load('ViT-B/32', device)\n",
    "\n",
    "# Download the dataset\n",
    "cifar100 = CIFAR100(root=os.path.expanduser(\"~/.cache\"), download=True, train=False)\n",
    "\n",
    "# Prepare the inputs\n",
    "image, class_id = cifar100[3637]\n",
    "image_input = preprocess(image).unsqueeze(0).to(device)\n",
    "text_inputs = torch.cat([clip.tokenize(f\"a photo of a {c}\") for c in cifar100.classes]).to(device)\n",
    "\n",
    "# Calculate features\n",
    "with torch.no_grad():\n",
    "    image_features = model.encode_image(image_input)\n",
    "    text_features = model.encode_text(text_inputs)\n",
    "\n",
    "# Pick the top 5 most similar labels for the image\n",
    "image_features /= image_features.norm(dim=-1, keepdim=True)\n",
    "text_features /= text_features.norm(dim=-1, keepdim=True)\n",
    "similarity = (100.0 * image_features @ text_features.T).softmax(dim=-1)\n",
    "values, indices = similarity[0].topk(5)\n",
    "\n",
    "# Print the result\n",
    "print(\"\\nTop predictions:\\n\")\n",
    "for value, index in zip(values, indices):\n",
    "    print(f\"{cifar100.classes[index]}: {100 * value.item():.2f}%\")"
   ]
  },
  {
   "cell_type": "code",
   "execution_count": 2,
   "id": "c996e140",
   "metadata": {},
   "outputs": [],
   "source": [
    "import pandas as pd"
   ]
  },
  {
   "cell_type": "code",
   "execution_count": 10,
   "id": "6d6ab37f",
   "metadata": {},
   "outputs": [],
   "source": [
    "def make_adverserial_inference_df(inference_path, fgsm = False):\n",
    "    '''\n",
    "    Create dataframe for our inference files\n",
    "    inference_path: path to our inference folder \n",
    "    \n",
    "    retunrs df with image pointing to image filename and caption to the correct label \n",
    "    '''\n",
    "    #file_path_names = [f for f in os.listdir(inference_path) if os.path.isfile(f)]\n",
    "    file_path_names = os.listdir(inference_path)\n",
    "    d = {} \n",
    "    d['image'] = file_path_names\n",
    "    labels = []\n",
    "    captions = []\n",
    "    for file_path in file_path_names:\n",
    "        if fgsm:\n",
    "            name = os.path.splitext(file_path)[0] # remove .JPEG from the end \n",
    "            name = ' '.join(name.split('_'))  # \"01669191_box_turtle\"  to \"box turtle\"\n",
    "            label = name\n",
    "            name = \"This is a photo of a \" + name  # \"box turtle\" to \"This is box turtle\"\n",
    "        else:\n",
    "            name = os.path.splitext(file_path)[0] # remove .JPEG from the end \n",
    "            name = ' '.join(name.split('_')[1:])  # \"01669191_box_turtle\"  to \"box turtle\"\n",
    "            label = name\n",
    "            name = \"This is a photo of a \" + name  # \"box turtle\" to \"This is box turtle\"\n",
    "        captions.append(name)\n",
    "        labels.append(label)\n",
    "    d['caption'] = captions \n",
    "    d['label'] = labels\n",
    "    df = pd.DataFrame(data=d)\n",
    "    \n",
    "    return df "
   ]
  },
  {
   "cell_type": "code",
   "execution_count": 11,
   "id": "31e3059e",
   "metadata": {},
   "outputs": [],
   "source": [
    "def find_match(image_input, text_inputs, model, classes, k=5, print_only=False):\n",
    "    with torch.no_grad():\n",
    "        image_features = model.encode_image(image_input)\n",
    "        text_features = model.encode_text(text_inputs)\n",
    "\n",
    "    # Pick the top 5 most similar labels for the image\n",
    "    image_features /= image_features.norm(dim=-1, keepdim=True)\n",
    "    text_features /= text_features.norm(dim=-1, keepdim=True)\n",
    "    similarity = (100.0 * image_features @ text_features.T).softmax(dim=-1)\n",
    "    values, indices = similarity[0].topk(k)\n",
    "    if print_only:\n",
    "        for value, index in zip(values, indices):\n",
    "            print(f\"{classes[index]:>16s}: {100 * value.item():.2f}%\")\n",
    "    matches = [classes[index] for index in indices]\n",
    "    return matches "
   ]
  },
  {
   "cell_type": "code",
   "execution_count": 51,
   "id": "8dd5420a",
   "metadata": {},
   "outputs": [],
   "source": [
    "from tqdm import tqdm\n",
    "from PIL import Image\n",
    "def top_k_inf(model, df, k=5, attack_mode=None):\n",
    "    \n",
    "    # appending the correct folder path\n",
    "    if attack_mode is None:\n",
    "        source_path = \"data/originalImagenet/\"\n",
    "    elif attack_mode == \"pgd\":\n",
    "        source_path = \"data/pgdAttack/\"\n",
    "    elif attack_mode == \"fgsm\":\n",
    "        source_path = \"data/attack/\"\n",
    "    correct = 0\n",
    "    \n",
    "    text_inputs = df['caption'].values\n",
    "    text_inputs = torch.cat([clip.tokenize(c) for c in text_inputs]).to(device)\n",
    "\n",
    "    for index,row in tqdm(df.iterrows(), total=len(df)): \n",
    "        image_path = source_path + row['image']\n",
    "        image = Image.open(image_path).convert('RGB')\n",
    "        image_input = preprocess(image).unsqueeze(0).to(device)\n",
    "\n",
    "        matches = find_match(image_input, text_inputs, model, df['caption'].values, k,  False)\n",
    "\n",
    "        for match in matches:\n",
    "            if row['label'] in match: \n",
    "                correct += 1\n",
    "        if index % 100 == 0:\n",
    "            print(f\"Correct raw: {correct}, Percent: {round(correct/(index+1) *100, 2)}\")\n",
    "\n",
    "    print(f\"Attack mode is {attack_mode}\")\n",
    "    print(f\"Correct raw value: {correct}\")\n",
    "    print(f\"Top {k} percent: {round(correct/len(df)* 100, 2)}\")"
   ]
  },
  {
   "cell_type": "code",
   "execution_count": 13,
   "id": "2c1975bd",
   "metadata": {},
   "outputs": [],
   "source": [
    "# No attack - originalImagnet dataset \n",
    "model, preprocess = clip.load('ViT-B/32', device)\n",
    "og_df = make_adverserial_inference_df(\"data/originalImagenet\")"
   ]
  },
  {
   "cell_type": "code",
   "execution_count": 15,
   "id": "7fae01ef",
   "metadata": {},
   "outputs": [
    {
     "data": {
      "text/html": [
       "<div>\n",
       "<style scoped>\n",
       "    .dataframe tbody tr th:only-of-type {\n",
       "        vertical-align: middle;\n",
       "    }\n",
       "\n",
       "    .dataframe tbody tr th {\n",
       "        vertical-align: top;\n",
       "    }\n",
       "\n",
       "    .dataframe thead th {\n",
       "        text-align: right;\n",
       "    }\n",
       "</style>\n",
       "<table border=\"1\" class=\"dataframe\">\n",
       "  <thead>\n",
       "    <tr style=\"text-align: right;\">\n",
       "      <th></th>\n",
       "      <th>image</th>\n",
       "      <th>caption</th>\n",
       "      <th>label</th>\n",
       "    </tr>\n",
       "  </thead>\n",
       "  <tbody>\n",
       "    <tr>\n",
       "      <th>0</th>\n",
       "      <td>n02979186_cassette_player.JPEG</td>\n",
       "      <td>This is a photo of a cassette player</td>\n",
       "      <td>cassette player</td>\n",
       "    </tr>\n",
       "    <tr>\n",
       "      <th>1</th>\n",
       "      <td>n02113799_standard_poodle.JPEG</td>\n",
       "      <td>This is a photo of a standard poodle</td>\n",
       "      <td>standard poodle</td>\n",
       "    </tr>\n",
       "    <tr>\n",
       "      <th>2</th>\n",
       "      <td>n02437312_Arabian_camel.JPEG</td>\n",
       "      <td>This is a photo of a Arabian camel</td>\n",
       "      <td>Arabian camel</td>\n",
       "    </tr>\n",
       "    <tr>\n",
       "      <th>3</th>\n",
       "      <td>n04154565_screwdriver.JPEG</td>\n",
       "      <td>This is a photo of a screwdriver</td>\n",
       "      <td>screwdriver</td>\n",
       "    </tr>\n",
       "    <tr>\n",
       "      <th>4</th>\n",
       "      <td>n12998815_agaric.JPEG</td>\n",
       "      <td>This is a photo of a agaric</td>\n",
       "      <td>agaric</td>\n",
       "    </tr>\n",
       "    <tr>\n",
       "      <th>...</th>\n",
       "      <td>...</td>\n",
       "      <td>...</td>\n",
       "      <td>...</td>\n",
       "    </tr>\n",
       "    <tr>\n",
       "      <th>995</th>\n",
       "      <td>n01582220_magpie.JPEG</td>\n",
       "      <td>This is a photo of a magpie</td>\n",
       "      <td>magpie</td>\n",
       "    </tr>\n",
       "    <tr>\n",
       "      <th>996</th>\n",
       "      <td>n03874599_padlock.JPEG</td>\n",
       "      <td>This is a photo of a padlock</td>\n",
       "      <td>padlock</td>\n",
       "    </tr>\n",
       "    <tr>\n",
       "      <th>997</th>\n",
       "      <td>n03240683_drilling_platform.JPEG</td>\n",
       "      <td>This is a photo of a drilling platform</td>\n",
       "      <td>drilling platform</td>\n",
       "    </tr>\n",
       "    <tr>\n",
       "      <th>998</th>\n",
       "      <td>n01795545_black_grouse.JPEG</td>\n",
       "      <td>This is a photo of a black grouse</td>\n",
       "      <td>black grouse</td>\n",
       "    </tr>\n",
       "    <tr>\n",
       "      <th>999</th>\n",
       "      <td>n04019541_puck.JPEG</td>\n",
       "      <td>This is a photo of a puck</td>\n",
       "      <td>puck</td>\n",
       "    </tr>\n",
       "  </tbody>\n",
       "</table>\n",
       "<p>1000 rows × 3 columns</p>\n",
       "</div>"
      ],
      "text/plain": [
       "                                image                                 caption  \\\n",
       "0      n02979186_cassette_player.JPEG    This is a photo of a cassette player   \n",
       "1      n02113799_standard_poodle.JPEG    This is a photo of a standard poodle   \n",
       "2        n02437312_Arabian_camel.JPEG      This is a photo of a Arabian camel   \n",
       "3          n04154565_screwdriver.JPEG        This is a photo of a screwdriver   \n",
       "4               n12998815_agaric.JPEG             This is a photo of a agaric   \n",
       "..                                ...                                     ...   \n",
       "995             n01582220_magpie.JPEG             This is a photo of a magpie   \n",
       "996            n03874599_padlock.JPEG            This is a photo of a padlock   \n",
       "997  n03240683_drilling_platform.JPEG  This is a photo of a drilling platform   \n",
       "998       n01795545_black_grouse.JPEG       This is a photo of a black grouse   \n",
       "999               n04019541_puck.JPEG               This is a photo of a puck   \n",
       "\n",
       "                 label  \n",
       "0      cassette player  \n",
       "1      standard poodle  \n",
       "2        Arabian camel  \n",
       "3          screwdriver  \n",
       "4               agaric  \n",
       "..                 ...  \n",
       "995             magpie  \n",
       "996            padlock  \n",
       "997  drilling platform  \n",
       "998       black grouse  \n",
       "999               puck  \n",
       "\n",
       "[1000 rows x 3 columns]"
      ]
     },
     "execution_count": 15,
     "metadata": {},
     "output_type": "execute_result"
    }
   ],
   "source": [
    "og_df"
   ]
  },
  {
   "cell_type": "code",
   "execution_count": 43,
   "id": "fbc61efe",
   "metadata": {},
   "outputs": [
    {
     "name": "stdout",
     "output_type": "stream",
     "text": [
      "Correct raw: 0, Percent: 0.0\n",
      "Correct raw: 9, Percent: 81.82\n",
      "Correct raw: 19, Percent: 90.48\n",
      "Correct raw: 28, Percent: 90.32\n",
      "Correct raw: 38, Percent: 92.68\n",
      "Correct raw: 46, Percent: 90.2\n",
      "Correct raw: 55, Percent: 90.16\n",
      "Correct raw: 62, Percent: 87.32\n",
      "Correct raw: 70, Percent: 86.42\n",
      "Correct raw: 78, Percent: 85.71\n",
      "Correct raw: 88, Percent: 87.13\n",
      "Correct raw: 98, Percent: 88.29\n",
      "Correct raw: 106, Percent: 87.6\n",
      "Correct raw: 118, Percent: 90.08\n",
      "Correct raw: 126, Percent: 89.36\n",
      "Correct raw: 136, Percent: 90.07\n",
      "Correct raw: 145, Percent: 90.06\n",
      "Correct raw: 154, Percent: 90.06\n",
      "Correct raw: 164, Percent: 90.61\n",
      "Correct raw: 174, Percent: 91.1\n",
      "Correct raw: 183, Percent: 91.04\n",
      "Correct raw: 192, Percent: 91.0\n",
      "Correct raw: 202, Percent: 91.4\n",
      "Correct raw: 211, Percent: 91.34\n",
      "Correct raw: 218, Percent: 90.46\n",
      "Correct raw: 228, Percent: 90.84\n",
      "Correct raw: 237, Percent: 90.8\n",
      "Correct raw: 247, Percent: 91.14\n",
      "Correct raw: 256, Percent: 91.1\n",
      "Correct raw: 263, Percent: 90.38\n",
      "Correct raw: 268, Percent: 89.04\n",
      "Correct raw: 277, Percent: 89.07\n",
      "Correct raw: 287, Percent: 89.41\n",
      "Correct raw: 295, Percent: 89.12\n",
      "Correct raw: 306, Percent: 89.74\n",
      "Correct raw: 314, Percent: 89.46\n",
      "Correct raw: 321, Percent: 88.92\n",
      "Correct raw: 330, Percent: 88.95\n",
      "Correct raw: 339, Percent: 88.98\n",
      "Correct raw: 350, Percent: 89.51\n",
      "Correct raw: 358, Percent: 89.28\n",
      "Correct raw: 366, Percent: 89.05\n",
      "Correct raw: 375, Percent: 89.07\n",
      "Correct raw: 385, Percent: 89.33\n",
      "Correct raw: 393, Percent: 89.12\n",
      "Correct raw: 399, Percent: 88.47\n",
      "Correct raw: 407, Percent: 88.29\n",
      "Correct raw: 417, Percent: 88.54\n",
      "Correct raw: 426, Percent: 88.57\n",
      "Correct raw: 434, Percent: 88.39\n",
      "Correct raw: 441, Percent: 88.02\n",
      "Correct raw: 452, Percent: 88.45\n",
      "Correct raw: 462, Percent: 88.68\n",
      "Correct raw: 469, Percent: 88.32\n",
      "Correct raw: 476, Percent: 87.99\n",
      "Correct raw: 486, Percent: 88.2\n",
      "Correct raw: 494, Percent: 88.06\n",
      "Correct raw: 503, Percent: 88.09\n",
      "Correct raw: 512, Percent: 88.12\n",
      "Correct raw: 522, Percent: 88.32\n",
      "Correct raw: 532, Percent: 88.52\n",
      "Correct raw: 538, Percent: 88.05\n",
      "Correct raw: 546, Percent: 87.92\n",
      "Correct raw: 555, Percent: 87.96\n",
      "Correct raw: 564, Percent: 87.99\n",
      "Correct raw: 573, Percent: 88.02\n",
      "Correct raw: 581, Percent: 87.9\n",
      "Correct raw: 588, Percent: 87.63\n",
      "Correct raw: 597, Percent: 87.67\n",
      "Correct raw: 606, Percent: 87.7\n",
      "Correct raw: 615, Percent: 87.73\n",
      "Correct raw: 626, Percent: 88.05\n",
      "Correct raw: 634, Percent: 87.93\n",
      "Correct raw: 641, Percent: 87.69\n",
      "Correct raw: 649, Percent: 87.58\n",
      "Correct raw: 658, Percent: 87.62\n",
      "Correct raw: 667, Percent: 87.65\n",
      "Correct raw: 673, Percent: 87.29\n",
      "Correct raw: 683, Percent: 87.45\n",
      "Correct raw: 692, Percent: 87.48\n",
      "Correct raw: 700, Percent: 87.39\n",
      "Correct raw: 708, Percent: 87.3\n",
      "Correct raw: 715, Percent: 87.09\n",
      "Correct raw: 725, Percent: 87.24\n",
      "Correct raw: 734, Percent: 87.28\n",
      "Correct raw: 743, Percent: 87.31\n",
      "Correct raw: 753, Percent: 87.46\n",
      "Correct raw: 763, Percent: 87.6\n",
      "Correct raw: 771, Percent: 87.51\n",
      "Correct raw: 781, Percent: 87.65\n",
      "Correct raw: 788, Percent: 87.46\n",
      "Correct raw: 795, Percent: 87.27\n",
      "Correct raw: 803, Percent: 87.19\n",
      "Correct raw: 813, Percent: 87.33\n",
      "Correct raw: 821, Percent: 87.25\n",
      "Correct raw: 828, Percent: 87.07\n",
      "Correct raw: 837, Percent: 87.1\n",
      "Correct raw: 845, Percent: 87.02\n",
      "Correct raw: 856, Percent: 87.26\n",
      "Correct raw: 864, Percent: 87.18\n",
      "Attack mode is None\n",
      "Correct raw value: 872\n",
      "Top 5 percent: 87.2\n"
     ]
    }
   ],
   "source": [
    "top_k_inf(model, og_df, k=5)"
   ]
  },
  {
   "cell_type": "code",
   "execution_count": 46,
   "id": "bf87d808",
   "metadata": {},
   "outputs": [],
   "source": [
    "pgd_df = make_adverserial_inference_df(\"data/pgdAttack\")"
   ]
  },
  {
   "cell_type": "code",
   "execution_count": 47,
   "id": "c3d3f02d",
   "metadata": {},
   "outputs": [
    {
     "data": {
      "text/html": [
       "<div>\n",
       "<style scoped>\n",
       "    .dataframe tbody tr th:only-of-type {\n",
       "        vertical-align: middle;\n",
       "    }\n",
       "\n",
       "    .dataframe tbody tr th {\n",
       "        vertical-align: top;\n",
       "    }\n",
       "\n",
       "    .dataframe thead th {\n",
       "        text-align: right;\n",
       "    }\n",
       "</style>\n",
       "<table border=\"1\" class=\"dataframe\">\n",
       "  <thead>\n",
       "    <tr style=\"text-align: right;\">\n",
       "      <th></th>\n",
       "      <th>image</th>\n",
       "      <th>caption</th>\n",
       "      <th>label</th>\n",
       "    </tr>\n",
       "  </thead>\n",
       "  <tbody>\n",
       "    <tr>\n",
       "      <th>0</th>\n",
       "      <td>n02979186_cassette_player.JPEG</td>\n",
       "      <td>This is a photo of a cassette player</td>\n",
       "      <td>cassette player</td>\n",
       "    </tr>\n",
       "    <tr>\n",
       "      <th>1</th>\n",
       "      <td>n02113799_standard_poodle.JPEG</td>\n",
       "      <td>This is a photo of a standard poodle</td>\n",
       "      <td>standard poodle</td>\n",
       "    </tr>\n",
       "    <tr>\n",
       "      <th>2</th>\n",
       "      <td>n02437312_Arabian_camel.JPEG</td>\n",
       "      <td>This is a photo of a Arabian camel</td>\n",
       "      <td>Arabian camel</td>\n",
       "    </tr>\n",
       "    <tr>\n",
       "      <th>3</th>\n",
       "      <td>n04154565_screwdriver.JPEG</td>\n",
       "      <td>This is a photo of a screwdriver</td>\n",
       "      <td>screwdriver</td>\n",
       "    </tr>\n",
       "    <tr>\n",
       "      <th>4</th>\n",
       "      <td>n12998815_agaric.JPEG</td>\n",
       "      <td>This is a photo of a agaric</td>\n",
       "      <td>agaric</td>\n",
       "    </tr>\n",
       "    <tr>\n",
       "      <th>...</th>\n",
       "      <td>...</td>\n",
       "      <td>...</td>\n",
       "      <td>...</td>\n",
       "    </tr>\n",
       "    <tr>\n",
       "      <th>995</th>\n",
       "      <td>n01582220_magpie.JPEG</td>\n",
       "      <td>This is a photo of a magpie</td>\n",
       "      <td>magpie</td>\n",
       "    </tr>\n",
       "    <tr>\n",
       "      <th>996</th>\n",
       "      <td>n03874599_padlock.JPEG</td>\n",
       "      <td>This is a photo of a padlock</td>\n",
       "      <td>padlock</td>\n",
       "    </tr>\n",
       "    <tr>\n",
       "      <th>997</th>\n",
       "      <td>n03240683_drilling_platform.JPEG</td>\n",
       "      <td>This is a photo of a drilling platform</td>\n",
       "      <td>drilling platform</td>\n",
       "    </tr>\n",
       "    <tr>\n",
       "      <th>998</th>\n",
       "      <td>n01795545_black_grouse.JPEG</td>\n",
       "      <td>This is a photo of a black grouse</td>\n",
       "      <td>black grouse</td>\n",
       "    </tr>\n",
       "    <tr>\n",
       "      <th>999</th>\n",
       "      <td>n04019541_puck.JPEG</td>\n",
       "      <td>This is a photo of a puck</td>\n",
       "      <td>puck</td>\n",
       "    </tr>\n",
       "  </tbody>\n",
       "</table>\n",
       "<p>1000 rows × 3 columns</p>\n",
       "</div>"
      ],
      "text/plain": [
       "                                image                                 caption  \\\n",
       "0      n02979186_cassette_player.JPEG    This is a photo of a cassette player   \n",
       "1      n02113799_standard_poodle.JPEG    This is a photo of a standard poodle   \n",
       "2        n02437312_Arabian_camel.JPEG      This is a photo of a Arabian camel   \n",
       "3          n04154565_screwdriver.JPEG        This is a photo of a screwdriver   \n",
       "4               n12998815_agaric.JPEG             This is a photo of a agaric   \n",
       "..                                ...                                     ...   \n",
       "995             n01582220_magpie.JPEG             This is a photo of a magpie   \n",
       "996            n03874599_padlock.JPEG            This is a photo of a padlock   \n",
       "997  n03240683_drilling_platform.JPEG  This is a photo of a drilling platform   \n",
       "998       n01795545_black_grouse.JPEG       This is a photo of a black grouse   \n",
       "999               n04019541_puck.JPEG               This is a photo of a puck   \n",
       "\n",
       "                 label  \n",
       "0      cassette player  \n",
       "1      standard poodle  \n",
       "2        Arabian camel  \n",
       "3          screwdriver  \n",
       "4               agaric  \n",
       "..                 ...  \n",
       "995             magpie  \n",
       "996            padlock  \n",
       "997  drilling platform  \n",
       "998       black grouse  \n",
       "999               puck  \n",
       "\n",
       "[1000 rows x 3 columns]"
      ]
     },
     "execution_count": 47,
     "metadata": {},
     "output_type": "execute_result"
    }
   ],
   "source": [
    "pgd_df"
   ]
  },
  {
   "cell_type": "code",
   "execution_count": 53,
   "id": "cd452381",
   "metadata": {},
   "outputs": [
    {
     "name": "stderr",
     "output_type": "stream",
     "text": [
      "  0%|▏                                                                                                                                             | 1/1000 [00:01<21:13,  1.27s/it]"
     ]
    },
    {
     "name": "stdout",
     "output_type": "stream",
     "text": [
      "Correct raw: 0, Percent: 0.0\n"
     ]
    },
    {
     "name": "stderr",
     "output_type": "stream",
     "text": [
      " 10%|██████████████▏                                                                                                                             | 101/1000 [02:06<18:51,  1.26s/it]"
     ]
    },
    {
     "name": "stdout",
     "output_type": "stream",
     "text": [
      "Correct raw: 68, Percent: 67.33\n"
     ]
    },
    {
     "name": "stderr",
     "output_type": "stream",
     "text": [
      " 20%|████████████████████████████▏                                                                                                               | 201/1000 [04:12<16:45,  1.26s/it]"
     ]
    },
    {
     "name": "stdout",
     "output_type": "stream",
     "text": [
      "Correct raw: 140, Percent: 69.65\n"
     ]
    },
    {
     "name": "stderr",
     "output_type": "stream",
     "text": [
      " 30%|██████████████████████████████████████████▏                                                                                                 | 301/1000 [06:18<14:41,  1.26s/it]"
     ]
    },
    {
     "name": "stdout",
     "output_type": "stream",
     "text": [
      "Correct raw: 204, Percent: 67.77\n"
     ]
    },
    {
     "name": "stderr",
     "output_type": "stream",
     "text": [
      " 40%|████████████████████████████████████████████████████████▏                                                                                   | 401/1000 [08:24<12:34,  1.26s/it]"
     ]
    },
    {
     "name": "stdout",
     "output_type": "stream",
     "text": [
      "Correct raw: 262, Percent: 65.34\n"
     ]
    },
    {
     "name": "stderr",
     "output_type": "stream",
     "text": [
      " 50%|██████████████████████████████████████████████████████████████████████▏                                                                     | 501/1000 [10:30<10:28,  1.26s/it]"
     ]
    },
    {
     "name": "stdout",
     "output_type": "stream",
     "text": [
      "Correct raw: 320, Percent: 63.87\n"
     ]
    },
    {
     "name": "stderr",
     "output_type": "stream",
     "text": [
      " 60%|████████████████████████████████████████████████████████████████████████████████████▏                                                       | 601/1000 [12:36<08:22,  1.26s/it]"
     ]
    },
    {
     "name": "stdout",
     "output_type": "stream",
     "text": [
      "Correct raw: 389, Percent: 64.73\n"
     ]
    },
    {
     "name": "stderr",
     "output_type": "stream",
     "text": [
      " 70%|██████████████████████████████████████████████████████████████████████████████████████████████████▏                                         | 701/1000 [14:42<06:16,  1.26s/it]"
     ]
    },
    {
     "name": "stdout",
     "output_type": "stream",
     "text": [
      "Correct raw: 447, Percent: 63.77\n"
     ]
    },
    {
     "name": "stderr",
     "output_type": "stream",
     "text": [
      " 80%|████████████████████████████████████████████████████████████████████████████████████████████████████████████████▏                           | 801/1000 [16:48<04:10,  1.26s/it]"
     ]
    },
    {
     "name": "stdout",
     "output_type": "stream",
     "text": [
      "Correct raw: 501, Percent: 62.55\n"
     ]
    },
    {
     "name": "stderr",
     "output_type": "stream",
     "text": [
      " 90%|██████████████████████████████████████████████████████████████████████████████████████████████████████████████████████████████▏             | 901/1000 [18:54<02:04,  1.26s/it]"
     ]
    },
    {
     "name": "stdout",
     "output_type": "stream",
     "text": [
      "Correct raw: 566, Percent: 62.82\n"
     ]
    },
    {
     "name": "stderr",
     "output_type": "stream",
     "text": [
      "100%|███████████████████████████████████████████████████████████████████████████████████████████████████████████████████████████████████████████| 1000/1000 [20:59<00:00,  1.26s/it]"
     ]
    },
    {
     "name": "stdout",
     "output_type": "stream",
     "text": [
      "Attack mode is pgd\n",
      "Correct raw value: 622\n",
      "Top 5 percent: 62.2\n"
     ]
    },
    {
     "name": "stderr",
     "output_type": "stream",
     "text": [
      "\n"
     ]
    }
   ],
   "source": [
    "top_k_inf(model, pgd_df, k=5, attack_mode='pgd')"
   ]
  },
  {
   "cell_type": "code",
   "execution_count": 54,
   "id": "5fd348e5",
   "metadata": {},
   "outputs": [],
   "source": [
    "fgsm_df = make_adverserial_inference_df(\"data/attack\", fgsm=True)"
   ]
  },
  {
   "cell_type": "code",
   "execution_count": null,
   "id": "f908acff",
   "metadata": {},
   "outputs": [
    {
     "name": "stderr",
     "output_type": "stream",
     "text": [
      "  0%|▏                                                                                                                                              | 1/997 [00:01<21:02,  1.27s/it]"
     ]
    },
    {
     "name": "stdout",
     "output_type": "stream",
     "text": [
      "Correct raw: 0, Percent: 0.0\n"
     ]
    },
    {
     "name": "stderr",
     "output_type": "stream",
     "text": [
      " 10%|██████████████▎                                                                                                                              | 101/997 [02:06<18:47,  1.26s/it]"
     ]
    },
    {
     "name": "stdout",
     "output_type": "stream",
     "text": [
      "Correct raw: 44, Percent: 43.56\n"
     ]
    },
    {
     "name": "stderr",
     "output_type": "stream",
     "text": [
      " 20%|████████████████████████████▍                                                                                                                | 201/997 [04:12<16:42,  1.26s/it]"
     ]
    },
    {
     "name": "stdout",
     "output_type": "stream",
     "text": [
      "Correct raw: 93, Percent: 46.27\n"
     ]
    },
    {
     "name": "stderr",
     "output_type": "stream",
     "text": [
      " 30%|██████████████████████████████████████████▌                                                                                                  | 301/997 [06:18<14:36,  1.26s/it]"
     ]
    },
    {
     "name": "stdout",
     "output_type": "stream",
     "text": [
      "Correct raw: 148, Percent: 49.17\n"
     ]
    },
    {
     "name": "stderr",
     "output_type": "stream",
     "text": [
      " 40%|████████████████████████████████████████████████████████▋                                                                                    | 401/997 [08:24<12:29,  1.26s/it]"
     ]
    },
    {
     "name": "stdout",
     "output_type": "stream",
     "text": [
      "Correct raw: 193, Percent: 48.13\n"
     ]
    },
    {
     "name": "stderr",
     "output_type": "stream",
     "text": [
      " 50%|██████████████████████████████████████████████████████████████████████▊                                                                      | 501/997 [10:30<10:23,  1.26s/it]"
     ]
    },
    {
     "name": "stdout",
     "output_type": "stream",
     "text": [
      "Correct raw: 237, Percent: 47.31\n"
     ]
    },
    {
     "name": "stderr",
     "output_type": "stream",
     "text": [
      " 60%|████████████████████████████████████████████████████████████████████████████████████▉                                                        | 601/997 [12:35<08:17,  1.26s/it]"
     ]
    },
    {
     "name": "stdout",
     "output_type": "stream",
     "text": [
      "Correct raw: 276, Percent: 45.92\n"
     ]
    },
    {
     "name": "stderr",
     "output_type": "stream",
     "text": [
      " 70%|███████████████████████████████████████████████████████████████████████████████████████████████████▏                                         | 701/997 [14:41<06:12,  1.26s/it]"
     ]
    },
    {
     "name": "stdout",
     "output_type": "stream",
     "text": [
      "Correct raw: 319, Percent: 45.51\n"
     ]
    },
    {
     "name": "stderr",
     "output_type": "stream",
     "text": [
      " 80%|█████████████████████████████████████████████████████████████████████████████████████████████████████████████████▎                           | 801/997 [16:47<04:06,  1.26s/it]"
     ]
    },
    {
     "name": "stdout",
     "output_type": "stream",
     "text": [
      "Correct raw: 359, Percent: 44.82\n"
     ]
    },
    {
     "name": "stderr",
     "output_type": "stream",
     "text": [
      " 90%|███████████████████████████████████████████████████████████████████████████████████████████████████████████████████████████████▍             | 901/997 [18:53<02:00,  1.26s/it]"
     ]
    },
    {
     "name": "stdout",
     "output_type": "stream",
     "text": [
      "Correct raw: 413, Percent: 45.84\n"
     ]
    },
    {
     "name": "stderr",
     "output_type": "stream",
     "text": [
      " 98%|█████████████████████████████████████████████████████████████████████████████████████████████████████████████████████████████████████████▌   | 973/997 [20:23<00:30,  1.26s/it]"
     ]
    }
   ],
   "source": [
    "top_k_inf(model, fgsm_df, k=5, attack_mode='fgsm')"
   ]
  },
  {
   "cell_type": "code",
   "execution_count": null,
   "id": "3052981f",
   "metadata": {},
   "outputs": [],
   "source": []
  }
 ],
 "metadata": {
  "kernelspec": {
   "display_name": "Python [conda env:openaiclip]",
   "language": "python",
   "name": "conda-env-openaiclip-py"
  },
  "language_info": {
   "codemirror_mode": {
    "name": "ipython",
    "version": 3
   },
   "file_extension": ".py",
   "mimetype": "text/x-python",
   "name": "python",
   "nbconvert_exporter": "python",
   "pygments_lexer": "ipython3",
   "version": "3.8.15"
  }
 },
 "nbformat": 4,
 "nbformat_minor": 5
}
